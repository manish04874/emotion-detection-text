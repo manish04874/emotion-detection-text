{
 "cells": [
  {
   "cell_type": "code",
   "execution_count": 1,
   "metadata": {},
   "outputs": [
    {
     "name": "stdout",
     "output_type": "stream",
     "text": [
      "✅ All libraries imported successfully!\n"
     ]
    }
   ],
   "source": [
    "import numpy as np\n",
    "import pandas as pd\n",
    "import seaborn as sns\n",
    "import neattext.functions as nfx\n",
    "import sklearn\n",
    "import joblib\n",
    "\n",
    "print(\"✅ All libraries imported successfully!\")\n"
   ]
  },
  {
   "cell_type": "code",
   "execution_count": 2,
   "metadata": {},
   "outputs": [],
   "source": [
    "#Load the dataset\n",
    "df = pd.read_csv(\"../data/eng_dataset.csv\")"
   ]
  },
  {
   "cell_type": "code",
   "execution_count": 3,
   "metadata": {},
   "outputs": [
    {
     "data": {
      "text/html": [
       "<div>\n",
       "<style scoped>\n",
       "    .dataframe tbody tr th:only-of-type {\n",
       "        vertical-align: middle;\n",
       "    }\n",
       "\n",
       "    .dataframe tbody tr th {\n",
       "        vertical-align: top;\n",
       "    }\n",
       "\n",
       "    .dataframe thead th {\n",
       "        text-align: right;\n",
       "    }\n",
       "</style>\n",
       "<table border=\"1\" class=\"dataframe\">\n",
       "  <thead>\n",
       "    <tr style=\"text-align: right;\">\n",
       "      <th></th>\n",
       "      <th>ID</th>\n",
       "      <th>sentiment</th>\n",
       "      <th>content</th>\n",
       "    </tr>\n",
       "  </thead>\n",
       "  <tbody>\n",
       "    <tr>\n",
       "      <th>0</th>\n",
       "      <td>10941</td>\n",
       "      <td>anger</td>\n",
       "      <td>At the point today where if someone says somet...</td>\n",
       "    </tr>\n",
       "    <tr>\n",
       "      <th>1</th>\n",
       "      <td>10942</td>\n",
       "      <td>anger</td>\n",
       "      <td>@CorningFootball  IT'S GAME DAY!!!!      T MIN...</td>\n",
       "    </tr>\n",
       "    <tr>\n",
       "      <th>2</th>\n",
       "      <td>10943</td>\n",
       "      <td>anger</td>\n",
       "      <td>This game has pissed me off more than any othe...</td>\n",
       "    </tr>\n",
       "    <tr>\n",
       "      <th>3</th>\n",
       "      <td>10944</td>\n",
       "      <td>anger</td>\n",
       "      <td>@spamvicious I've just found out it's Candice ...</td>\n",
       "    </tr>\n",
       "    <tr>\n",
       "      <th>4</th>\n",
       "      <td>10945</td>\n",
       "      <td>anger</td>\n",
       "      <td>@moocowward @mrsajhargreaves @Melly77 @GaryBar...</td>\n",
       "    </tr>\n",
       "  </tbody>\n",
       "</table>\n",
       "</div>"
      ],
      "text/plain": [
       "      ID sentiment                                            content\n",
       "0  10941     anger  At the point today where if someone says somet...\n",
       "1  10942     anger  @CorningFootball  IT'S GAME DAY!!!!      T MIN...\n",
       "2  10943     anger  This game has pissed me off more than any othe...\n",
       "3  10944     anger  @spamvicious I've just found out it's Candice ...\n",
       "4  10945     anger  @moocowward @mrsajhargreaves @Melly77 @GaryBar..."
      ]
     },
     "execution_count": 3,
     "metadata": {},
     "output_type": "execute_result"
    }
   ],
   "source": [
    "df.head()"
   ]
  },
  {
   "cell_type": "code",
   "execution_count": 6,
   "metadata": {},
   "outputs": [
    {
     "name": "stdout",
     "output_type": "stream",
     "text": [
      "Dataset shape: (7102, 3)\n",
      "Columns: ['ID', 'sentiment', 'content']\n",
      "Missing values:\n",
      " ID           0\n",
      "sentiment    0\n",
      "content      0\n",
      "dtype: int64\n",
      "Data types:\n",
      " ID            int64\n",
      "sentiment    object\n",
      "content      object\n",
      "dtype: object\n"
     ]
    }
   ],
   "source": [
    "# Check shape\n",
    "print(\"Dataset shape:\", df.shape)\n",
    "\n",
    "# Check column names\n",
    "print(\"Columns:\", df.columns.tolist())\n",
    "\n",
    "# Check for missing values\n",
    "print(\"Missing values:\\n\", df.isnull().sum())\n",
    "\n",
    "# Check data types\n",
    "print(\"Data types:\\n\", df.dtypes)\n",
    "\n"
   ]
  },
  {
   "cell_type": "code",
   "execution_count": 7,
   "metadata": {},
   "outputs": [
    {
     "data": {
      "image/png": "[encoded data removed]",
      "text/plain": [
       "<Figure size 800x500 with 1 Axes>"
      ]
     },
     "metadata": {},
     "output_type": "display_data"
    }
   ],
   "source": [
    "import seaborn as sns\n",
    "import matplotlib.pyplot as plt\n",
    "\n",
    "# Plot emotion class distribution\n",
    "plt.figure(figsize=(8, 5))\n",
    "sns.countplot(data=df, x='sentiment', order=df['sentiment'].value_counts().index)\n",
    "plt.title(\"Emotion Class Distribution\")\n",
    "plt.xlabel(\"Emotion\")\n",
    "plt.ylabel(\"Count\")\n",
    "plt.show()\n"
   ]
  },
  {
   "cell_type": "code",
   "execution_count": 8,
   "metadata": {},
   "outputs": [
    {
     "name": "stdout",
     "output_type": "stream",
     "text": [
      "\n",
      "Samples for emotion: anger\n",
      "[\"oh these old things on my face? nah they're not tears from school related anger and frustration nope never\", '#ForgivenessÂ might make us look #weak, but the weakest person is the one who holds #anger, #hatred, and .', 'Oh daaaaaaamn @SophiaBush! #getitgirl #girlpower  #rawr #ChicagoPD']\n",
      "\n",
      "Samples for emotion: fear\n",
      "[\"@BritishBakeOff Val's 'soggy bottom' face will haunt me. Stay strong V-dog!\", 'Will you #dedicate today to #love or #fear ? It is your #choice in each #moment . - Archangel Michael. #archangel #michael', \"@TheSidEudy PS: I still think your broken leg against Scott Steiner was one of the most horrific injuries I've ever seen in the ring #ccot\"]\n",
      "\n",
      "Samples for emotion: joy\n",
      "['Could not be happier!! ', 'I take a strange delight from seeing mark Hughes struggle', \"I'm such a fan of endless #laughter with #friends and enjoying #happiness together. #FridayFeeling #weekend\"]\n",
      "\n",
      "Samples for emotion: sadness\n",
      "['Condolences to the  JC and the Georges family.. ', 'It serves a gloomy higher than the wolves of the village', \"@PatBlanchfield so you mean â€œlike Uber but for despair for someone other than the driver'\"]\n"
     ]
    }
   ],
   "source": [
    "# Unique emotion classes\n",
    "emotions = df['sentiment'].unique()\n",
    "\n",
    "# Display 3 sample texts from each emotion\n",
    "for emotion in emotions:\n",
    "    print(f\"\\nSamples for emotion: {emotion}\")\n",
    "    print(df[df['sentiment'] == emotion]['content'].dropna().sample(3, random_state=42).to_list())\n"
   ]
  },
  {
   "cell_type": "code",
   "execution_count": 10,
   "metadata": {},
   "outputs": [
    {
     "data": {
      "text/html": [
       "<div>\n",
       "<style scoped>\n",
       "    .dataframe tbody tr th:only-of-type {\n",
       "        vertical-align: middle;\n",
       "    }\n",
       "\n",
       "    .dataframe tbody tr th {\n",
       "        vertical-align: top;\n",
       "    }\n",
       "\n",
       "    .dataframe thead th {\n",
       "        text-align: right;\n",
       "    }\n",
       "</style>\n",
       "<table border=\"1\" class=\"dataframe\">\n",
       "  <thead>\n",
       "    <tr style=\"text-align: right;\">\n",
       "      <th></th>\n",
       "      <th>content</th>\n",
       "      <th>cleaned_text</th>\n",
       "    </tr>\n",
       "  </thead>\n",
       "  <tbody>\n",
       "    <tr>\n",
       "      <th>0</th>\n",
       "      <td>At the point today where if someone says somet...</td>\n",
       "      <td>point today says remotely kind me waterfall bu...</td>\n",
       "    </tr>\n",
       "    <tr>\n",
       "      <th>1</th>\n",
       "      <td>@CorningFootball  IT'S GAME DAY!!!!      T MIN...</td>\n",
       "      <td>corningfootball game day minus 1430 relentless</td>\n",
       "    </tr>\n",
       "    <tr>\n",
       "      <th>2</th>\n",
       "      <td>This game has pissed me off more than any othe...</td>\n",
       "      <td>game pissed game year blood boiling time turn ...</td>\n",
       "    </tr>\n",
       "    <tr>\n",
       "      <th>3</th>\n",
       "      <td>@spamvicious I've just found out it's Candice ...</td>\n",
       "      <td>spamvicious ive found candice candace pout likes</td>\n",
       "    </tr>\n",
       "    <tr>\n",
       "      <th>4</th>\n",
       "      <td>@moocowward @mrsajhargreaves @Melly77 @GaryBar...</td>\n",
       "      <td>moocowward mrsajhargreaves melly77 garybarlow ...</td>\n",
       "    </tr>\n",
       "    <tr>\n",
       "      <th>5</th>\n",
       "      <td>@moocowward @mrsajhargreaves @Melly77 @GaryBar...</td>\n",
       "      <td>moocowward mrsajhargreaves melly77 garybarlow ...</td>\n",
       "    </tr>\n",
       "    <tr>\n",
       "      <th>6</th>\n",
       "      <td>wanna go home and focus up on this game . Don'...</td>\n",
       "      <td>wanna home focus game  wanna rage</td>\n",
       "    </tr>\n",
       "    <tr>\n",
       "      <th>7</th>\n",
       "      <td>@virginmedia I've been disconnected whilst on ...</td>\n",
       "      <td>virginmedia ive disconnected whilst holiday  h...</td>\n",
       "    </tr>\n",
       "    <tr>\n",
       "      <th>8</th>\n",
       "      <td>@virginmedia I've been disconnected whilst on ...</td>\n",
       "      <td>virginmedia ive disconnected whilst holiday  h...</td>\n",
       "    </tr>\n",
       "    <tr>\n",
       "      <th>9</th>\n",
       "      <td>I wanna see you smile I don't wanna see you ma...</td>\n",
       "      <td>wanna smile wanna frown</td>\n",
       "    </tr>\n",
       "  </tbody>\n",
       "</table>\n",
       "</div>"
      ],
      "text/plain": [
       "                                             content  \\\n",
       "0  At the point today where if someone says somet...   \n",
       "1  @CorningFootball  IT'S GAME DAY!!!!      T MIN...   \n",
       "2  This game has pissed me off more than any othe...   \n",
       "3  @spamvicious I've just found out it's Candice ...   \n",
       "4  @moocowward @mrsajhargreaves @Melly77 @GaryBar...   \n",
       "5  @moocowward @mrsajhargreaves @Melly77 @GaryBar...   \n",
       "6  wanna go home and focus up on this game . Don'...   \n",
       "7  @virginmedia I've been disconnected whilst on ...   \n",
       "8  @virginmedia I've been disconnected whilst on ...   \n",
       "9  I wanna see you smile I don't wanna see you ma...   \n",
       "\n",
       "                                        cleaned_text  \n",
       "0  point today says remotely kind me waterfall bu...  \n",
       "1     corningfootball game day minus 1430 relentless  \n",
       "2  game pissed game year blood boiling time turn ...  \n",
       "3  spamvicious ive found candice candace pout likes   \n",
       "4  moocowward mrsajhargreaves melly77 garybarlow ...  \n",
       "5  moocowward mrsajhargreaves melly77 garybarlow ...  \n",
       "6                  wanna home focus game  wanna rage  \n",
       "7  virginmedia ive disconnected whilst holiday  h...  \n",
       "8  virginmedia ive disconnected whilst holiday  h...  \n",
       "9                            wanna smile wanna frown  "
      ]
     },
     "execution_count": 10,
     "metadata": {},
     "output_type": "execute_result"
    }
   ],
   "source": [
    "import neattext.functions as nfx\n",
    "\n",
    "# Work on a copy of the DataFrame\n",
    "df_cleaned = df.copy()\n",
    "\n",
    "# Convert text to lowercase\n",
    "df_cleaned['cleaned_text'] = df_cleaned['content'].str.lower()\n",
    "\n",
    "# Remove stopwords\n",
    "df_cleaned['cleaned_text'] = df_cleaned['cleaned_text'].apply(nfx.remove_stopwords)\n",
    "\n",
    "# Remove punctuations\n",
    "df_cleaned['cleaned_text'] = df_cleaned['cleaned_text'].apply(nfx.remove_punctuations)\n",
    "\n",
    "# Remove URLs\n",
    "df_cleaned['cleaned_text'] = df_cleaned['cleaned_text'].apply(nfx.remove_urls)\n",
    "\n",
    "# Remove special characters\n",
    "df_cleaned['cleaned_text'] = df_cleaned['cleaned_text'].apply(nfx.remove_special_characters)\n",
    "\n",
    "# (Optional) Remove emojis if needed\n",
    "df_cleaned['cleaned_text'] = df_cleaned['cleaned_text'].apply(nfx.remove_emojis)\n",
    "\n",
    "# Show before and after cleaning\n",
    "df_cleaned[['content', 'cleaned_text']].head(10)\n"
   ]
  },
  {
   "cell_type": "code",
   "execution_count": 23,
   "metadata": {},
   "outputs": [],
   "source": [
    "from sklearn.feature_extraction.text import TfidfVectorizer\n",
    "\n",
    "# Use lemmatized_text if it worked; otherwise, use cleaned_text\n",
    "tfidf = TfidfVectorizer(max_features=5000)\n",
    "\n",
    "# Fit and transform\n",
    "X = tfidf.fit_transform(df_cleaned['cleaned_text'])  # using cleaned_text\n",
    "y = df_cleaned['sentiment']  # target labels\n",
    "\n"
   ]
  },
  {
   "cell_type": "code",
   "execution_count": 24,
   "metadata": {},
   "outputs": [],
   "source": [
    "from sklearn.model_selection import train_test_split\n",
    "\n",
    "# Split data into train and test sets\n",
    "X_train, X_test, y_train, y_test = train_test_split(\n",
    "    X, y, test_size=0.2, random_state=42, stratify=y\n",
    ")\n"
   ]
  },
  {
   "cell_type": "code",
   "execution_count": 25,
   "metadata": {},
   "outputs": [],
   "source": [
    "from sklearn.linear_model import LogisticRegression\n",
    "from sklearn.metrics import accuracy_score, classification_report, confusion_matrix\n",
    "\n",
    "# Initialize and train the model\n",
    "log_reg = LogisticRegression(solver='liblinear', random_state=42)\n",
    "log_reg.fit(X_train, y_train)\n",
    "\n",
    "# Predict\n",
    "y_pred = log_reg.predict(X_test)\n"
   ]
  },
  {
   "cell_type": "code",
   "execution_count": 26,
   "metadata": {},
   "outputs": [
    {
     "name": "stdout",
     "output_type": "stream",
     "text": [
      "Accuracy: 0.8733286418015482\n",
      "\n",
      "Classification Report:\n",
      "               precision    recall  f1-score   support\n",
      "\n",
      "       anger       0.92      0.88      0.90       340\n",
      "        fear       0.80      0.94      0.87       451\n",
      "         joy       0.95      0.88      0.91       323\n",
      "     sadness       0.87      0.75      0.81       307\n",
      "\n",
      "    accuracy                           0.87      1421\n",
      "   macro avg       0.89      0.86      0.87      1421\n",
      "weighted avg       0.88      0.87      0.87      1421\n",
      "\n"
     ]
    },
    {
     "data": {
      "image/png": "[encoded data removed]",
      "text/plain": [
       "<Figure size 600x400 with 2 Axes>"
      ]
     },
     "metadata": {},
     "output_type": "display_data"
    }
   ],
   "source": [
    "# Accuracy\n",
    "print(\"Accuracy:\", accuracy_score(y_test, y_pred))\n",
    "\n",
    "# Detailed Report\n",
    "print(\"\\nClassification Report:\\n\", classification_report(y_test, y_pred))\n",
    "\n",
    "# Confusion Matrix (Visual)\n",
    "import seaborn as sns\n",
    "import matplotlib.pyplot as plt\n",
    "\n",
    "plt.figure(figsize=(6, 4))\n",
    "sns.heatmap(confusion_matrix(y_test, y_pred), annot=True, fmt='d',\n",
    "            xticklabels=log_reg.classes_, yticklabels=log_reg.classes_, cmap='Blues')\n",
    "plt.xlabel(\"Predicted\")\n",
    "plt.ylabel(\"Actual\")\n",
    "plt.title(\"Confusion Matrix - Logistic Regression\")\n",
    "plt.show()\n"
   ]
  },
  {
   "cell_type": "code",
   "execution_count": 27,
   "metadata": {},
   "outputs": [
    {
     "name": "stdout",
     "output_type": "stream",
     "text": [
      "Naive Bayes Accuracy: 0.8388458831808585\n",
      "\n",
      "Classification Report:\n",
      "               precision    recall  f1-score   support\n",
      "\n",
      "       anger       0.88      0.84      0.86       340\n",
      "        fear       0.76      0.94      0.84       451\n",
      "         joy       0.94      0.85      0.89       323\n",
      "     sadness       0.84      0.67      0.75       307\n",
      "\n",
      "    accuracy                           0.84      1421\n",
      "   macro avg       0.86      0.83      0.84      1421\n",
      "weighted avg       0.85      0.84      0.84      1421\n",
      "\n"
     ]
    }
   ],
   "source": [
    "from sklearn.naive_bayes import MultinomialNB\n",
    "\n",
    "# Initialize and train the model\n",
    "nb_model = MultinomialNB()\n",
    "nb_model.fit(X_train, y_train)\n",
    "\n",
    "# Predict\n",
    "y_pred_nb = nb_model.predict(X_test)\n",
    "\n",
    "# Evaluate\n",
    "print(\"Naive Bayes Accuracy:\", accuracy_score(y_test, y_pred_nb))\n",
    "print(\"\\nClassification Report:\\n\", classification_report(y_test, y_pred_nb))\n"
   ]
  },
  {
   "cell_type": "code",
   "execution_count": 28,
   "metadata": {},
   "outputs": [
    {
     "name": "stdout",
     "output_type": "stream",
     "text": [
      "SVM Accuracy: 0.8937368050668544\n",
      "\n",
      "Classification Report:\n",
      "               precision    recall  f1-score   support\n",
      "\n",
      "       anger       0.93      0.91      0.92       340\n",
      "        fear       0.85      0.94      0.89       451\n",
      "         joy       0.97      0.91      0.94       323\n",
      "     sadness       0.85      0.80      0.82       307\n",
      "\n",
      "    accuracy                           0.89      1421\n",
      "   macro avg       0.90      0.89      0.89      1421\n",
      "weighted avg       0.90      0.89      0.89      1421\n",
      "\n"
     ]
    }
   ],
   "source": [
    "from sklearn.svm import LinearSVC\n",
    "\n",
    "# Initialize and train the model\n",
    "svm_model = LinearSVC()\n",
    "svm_model.fit(X_train, y_train)\n",
    "\n",
    "# Predict\n",
    "y_pred_svm = svm_model.predict(X_test)\n",
    "\n",
    "# Evaluate\n",
    "print(\"SVM Accuracy:\", accuracy_score(y_test, y_pred_svm))\n",
    "print(\"\\nClassification Report:\\n\", classification_report(y_test, y_pred_svm))\n"
   ]
  },
  {
   "cell_type": "code",
   "execution_count": 29,
   "metadata": {},
   "outputs": [
    {
     "name": "stdout",
     "output_type": "stream",
     "text": [
      "Logistic Regression Accuracy: 0.8733\n",
      "Naive Bayes Accuracy: 0.8388\n",
      "SVM Accuracy: 0.8937\n"
     ]
    }
   ],
   "source": [
    "models = {\n",
    "    \"Logistic Regression\": log_reg,\n",
    "    \"Naive Bayes\": nb_model,\n",
    "    \"SVM\": svm_model\n",
    "}\n",
    "\n",
    "for name, model in models.items():\n",
    "    preds = model.predict(X_test)\n",
    "    acc = accuracy_score(y_test, preds)\n",
    "    print(f\"{name} Accuracy: {acc:.4f}\")\n"
   ]
  },
  {
   "cell_type": "code",
   "execution_count": 30,
   "metadata": {},
   "outputs": [
    {
     "data": {
      "image/png": "[encoded data removed]",
      "text/plain": [
       "<Figure size 600x400 with 2 Axes>"
      ]
     },
     "metadata": {},
     "output_type": "display_data"
    },
    {
     "name": "stdout",
     "output_type": "stream",
     "text": [
      "Classification Report - SVM:\n",
      "               precision    recall  f1-score   support\n",
      "\n",
      "       anger       0.93      0.91      0.92       340\n",
      "        fear       0.85      0.94      0.89       451\n",
      "         joy       0.97      0.91      0.94       323\n",
      "     sadness       0.85      0.80      0.82       307\n",
      "\n",
      "    accuracy                           0.89      1421\n",
      "   macro avg       0.90      0.89      0.89      1421\n",
      "weighted avg       0.90      0.89      0.89      1421\n",
      "\n"
     ]
    }
   ],
   "source": [
    "from sklearn.metrics import confusion_matrix, classification_report, accuracy_score\n",
    "import seaborn as sns\n",
    "import matplotlib.pyplot as plt\n",
    "\n",
    "# Confusion Matrix\n",
    "cm = confusion_matrix(y_test, y_pred_svm)\n",
    "\n",
    "plt.figure(figsize=(6, 4))\n",
    "sns.heatmap(cm, annot=True, fmt='d', cmap='Blues',\n",
    "            xticklabels=svm_model.classes_,\n",
    "            yticklabels=svm_model.classes_)\n",
    "plt.xlabel(\"Predicted\")\n",
    "plt.ylabel(\"Actual\")\n",
    "plt.title(\"Confusion Matrix - SVM\")\n",
    "plt.show()\n",
    "\n",
    "# Classification report (again, optional)\n",
    "print(\"Classification Report - SVM:\\n\", classification_report(y_test, y_pred_svm))\n"
   ]
  },
  {
   "cell_type": "code",
   "execution_count": 32,
   "metadata": {},
   "outputs": [],
   "source": [
    "import os\n",
    "\n",
    "# Create the models folder if it doesn't exist\n",
    "os.makedirs(\"../models\", exist_ok=True)\n"
   ]
  },
  {
   "cell_type": "code",
   "execution_count": 33,
   "metadata": {},
   "outputs": [
    {
     "name": "stdout",
     "output_type": "stream",
     "text": [
      "✅ Model and vectorizer saved successfully!\n"
     ]
    }
   ],
   "source": [
    "import joblib\n",
    "\n",
    "# Save the best model (SVM)\n",
    "joblib.dump(svm_model, \"../models/emotion_model.joblib\")\n",
    "\n",
    "# Save the TF-IDF vectorizer\n",
    "joblib.dump(tfidf, \"../models/tfidf_vectorizer.joblib\")\n",
    "\n",
    "print(\"✅ Model and vectorizer saved successfully!\")\n"
   ]
  },
  {
   "cell_type": "code",
   "execution_count": 34,
   "metadata": {},
   "outputs": [
    {
     "name": "stdout",
     "output_type": "stream",
     "text": [
      "✅ Model and vectorizer saved successfully!\n"
     ]
    }
   ],
   "source": [
    "import joblib\n",
    "\n",
    "# Save the best model (SVM)\n",
    "joblib.dump(svm_model, \"../models/emotion_model.joblib\")\n",
    "\n",
    "# Save the TF-IDF vectorizer\n",
    "joblib.dump(tfidf, \"../models/tfidf_vectorizer.joblib\")\n",
    "\n",
    "print(\"✅ Model and vectorizer saved successfully!\")"
   ]
  }
 ],
 "metadata": {
  "kernelspec": {
   "display_name": "Python 3",
   "language": "python",
   "name": "python3"
  },
  "language_info": {
   "codemirror_mode": {
    "name": "ipython",
    "version": 3
   },
   "file_extension": ".py",
   "mimetype": "text/x-python",
   "name": "python",
   "nbconvert_exporter": "python",
   "pygments_lexer": "ipython3",
   "version": "3.12.5"
  }
 },
 "nbformat": 4,
 "nbformat_minor": 2
}
